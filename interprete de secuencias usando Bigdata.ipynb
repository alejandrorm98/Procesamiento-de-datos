{
  "nbformat": 4,
  "nbformat_minor": 0,
  "metadata": {
    "colab": {
      "name": "Untitled0.ipynb",
      "provenance": [],
      "collapsed_sections": []
    },
    "kernelspec": {
      "display_name": "Python 3",
      "name": "python3"
    }
  },
  "cells": [
    {
      "cell_type": "code",
      "metadata": {
        "id": "6eszwbfXD9V7",
        "colab": {
          "base_uri": "https://localhost:8080/"
        },
        "outputId": "496e417b-4cc6-47d5-800e-2e3b2fb879b6"
      },
      "source": [
        "#se debe ejecutar esta celda para hacer conección con el contenido de drive y llamar los datos necesarios, se ingresa el correo y se copia el cod que sale en el recuadro\n",
        "from google.colab import drive\n",
        "drive.mount('/content/drive')"
      ],
      "execution_count": null,
      "outputs": [
        {
          "output_type": "stream",
          "name": "stdout",
          "text": [
            "Mounted at /content/drive\n"
          ]
        }
      ]
    },
    {
      "cell_type": "code",
      "metadata": {
        "id": "vn9lk6hGDD95",
        "colab": {
          "base_uri": "https://localhost:8080/"
        },
        "outputId": "c2a61bd4-a68d-44c5-f0b9-4404c1c2c4ab"
      },
      "source": [
        "#despues de estar conectados al drive se corre esta linea para posicionarnos en la ruta de los datos\n",
        "%cd /content/drive/My Drive/perla                                          \n",
        "#se cargan las librerias necesarias\n",
        "from io import open \n",
        "import numpy as np\n",
        "import pandas as pd\n",
        "#se abre el archivo del día que se requiera. Debe conicidir con el nombre que le pusimos en el drive, y se corre el script\n",
        "arch=open('20220402.XML','r')\n",
        "s=np.array([])\n",
        "c=np.array([])\n",
        "du=np.array([])\n",
        "form=np.array([])\n",
        "leer=arch.readlines()\n",
        "arch.close()\n",
        "leer=np.array(leer)\n",
        "n=np.where(leer=='  <Inconsistencias>\\n')\n",
        "for i in range(len(n[0])):\n",
        "  if 'duplicate key' not in leer[n[0][i]+2]:\n",
        "    #s=np.append(s,[leer[n[0][i]+1][leer[n[0][i]+1].find(\"SU\"):leer[n[0][i]+1].find(\"SU\")+3]+' '+\n",
        "                   #leer[n[0][i]+1][leer[n[0][i]+1].find(\"SU\")+3:leer[n[0][i]+1].find(\"&\",leer[n[0][i]+1].find(\"SU\"))]+'-'])\n",
        "    c=np.append(c,leer[n[0][i]+1][leer[n[0][i]+1].find(\"S\")+3:leer[n[0][i]+1].find(\"&\",leer[n[0][i]+1].find(\"S\"))])\n",
        "  if 'was deadlocked' in leer[n[0][i]+2]:\n",
        "    du=np.append(du,leer[n[0][i]+1][leer[n[0][i]+1].find(\"S\")+3:leer[n[0][i]+1].find(\"&\",leer[n[0][i]+1].find(\"S\"))]) \n",
        "  if 'existe formulario' in leer[n[0][i]+2]:\n",
        "    form=np.append(form,leer[n[0][i]+1][leer[n[0][i]+1].find(\"S\")+3:leer[n[0][i]+1].find(\"&\",leer[n[0][i]+1].find(\"S\"))]) "
      ],
      "execution_count": null,
      "outputs": [
        {
          "output_type": "stream",
          "name": "stdout",
          "text": [
            "/content/drive/My Drive/perla\n"
          ]
        }
      ]
    },
    {
      "cell_type": "code",
      "metadata": {
        "colab": {
          "base_uri": "https://localhost:8080/"
        },
        "id": "SteTsntV7gIy",
        "outputId": "3b04490c-f289-4b65-f641-16349ea5c287"
      },
      "source": [
        "#me indica el count de inconcistencias y el total \n",
        "print('total inconsis a tener encuenta = no existe formulario a anular  +  deadlocked')\n",
        "print(str(len(c)) + '                              =             ' + str(len(form)) + '                  +    ' +str( len(du)))"
      ],
      "execution_count": null,
      "outputs": [
        {
          "output_type": "stream",
          "name": "stdout",
          "text": [
            "total inconsis a tener encuenta = no existe formulario a anular  +  deadlocked\n",
            "1                              =             0                  +    1\n"
          ]
        }
      ]
    },
    {
      "cell_type": "code",
      "metadata": {
        "colab": {
          "base_uri": "https://localhost:8080/"
        },
        "id": "BzGkWd2i9qhM",
        "outputId": "0a8a77a5-7cc7-4b48-ff0f-82786d580114"
      },
      "source": [
        "#se corre el script e imprime la información que debo enviarle al ingeniero, junto con la información del día que esta en el informe de sivical (excel)\n",
        "d=0\n",
        "k=0\n",
        "f=0\n",
        "o=0\n",
        "z=np.array([],dtype=int)\n",
        "p=np.array([],dtype=int)\n",
        "\n",
        "for i in range(len(n[0])):\n",
        "  if 'was deadlocked' in leer[n[0][i]+2]:\n",
        "    d+=1\n",
        "  if 'duplicate key' in leer[n[0][i]+2]:\n",
        "    k+=1\n",
        "  if 'existe formulario' in leer[n[0][i]+2]:\n",
        "    f+=1\n",
        "    z=np.append(z,i)\n",
        "  if 'duplicate key' not in leer[n[0][i]+2] and 'was deadlocked' not in leer[n[0][i]+2] and 'existe formulario' not in leer[n[0][i]+2]:\n",
        "    o+=1\n",
        "    p=np.append(p,i)\n",
        "\n",
        "print('Total de incosistencias: '+str(len(n[0])))\n",
        "print('Total de duplicate key: '+str(k))\n",
        "print('Total de deadlocked: '+str(d))\n",
        "print('Total de no existe formulario a anular: '+str(f))\n",
        "print('Otro tipo de incosistencia: '+str(o)) \n",
        "d+k+f+o"
      ],
      "execution_count": null,
      "outputs": [
        {
          "output_type": "stream",
          "name": "stdout",
          "text": [
            "Total de incosistencias: 2642\n",
            "Total de duplicate key: 2641\n",
            "Total de deadlocked: 1\n",
            "Total de no existe formulario a anular: 0\n",
            "Otro tipo de incosistencia: 0\n"
          ]
        },
        {
          "output_type": "execute_result",
          "data": {
            "text/plain": [
              "2642"
            ]
          },
          "metadata": {},
          "execution_count": 4
        }
      ]
    },
    {
      "cell_type": "code",
      "metadata": {
        "colab": {
          "base_uri": "https://localhost:8080/"
        },
        "id": "1HOl0gT_4fpm",
        "outputId": "1a92ada7-7523-47da-b6fa-068b31fb812c"
      },
      "source": [
        "#se corre para identificar si sale alguna inconsistenacia diferente\n",
        "t=np.array([])\n",
        "for i in range(len(p)):\n",
        " t=np.append(t,[leer[n[0][p[i]]+1][leer[n[0][p[i]]+1].find(\"SU\" or \"SV\"):leer[n[0][p[i]]+1].find(\"SU\" or \"SV\")+3]+' '+\n",
        "                   leer[n[0][p[i]]+1][leer[n[0][p[i]]+1].find(\"SU\" or \"SV\")+3:leer[n[0][p[i]]+1].find(\"&\",leer[n[0][p[i]]+1].find(\"SU\" or \"SV\"))]])\n",
        " print(leer[n[0][p[i]]+2])\n",
        "t"
      ],
      "execution_count": null,
      "outputs": [
        {
          "output_type": "execute_result",
          "data": {
            "text/plain": [
              "array([], dtype=float64)"
            ]
          },
          "metadata": {},
          "execution_count": 5
        }
      ]
    },
    {
      "cell_type": "code",
      "metadata": {
        "colab": {
          "base_uri": "https://localhost:8080/"
        },
        "id": "CN3SAarq9NB4",
        "outputId": "3631f09a-8868-46cc-b156-440d1459bc7b"
      },
      "source": [
        "#@title Texto de título predeterminado\n",
        "#todos las inconsitencias que se deben reportar, deadlocked y formulario a anular\n",
        "c[:]"
      ],
      "execution_count": null,
      "outputs": [
        {
          "output_type": "execute_result",
          "data": {
            "text/plain": [
              "array(['6795296'], dtype='<U32')"
            ]
          },
          "metadata": {},
          "execution_count": 6
        }
      ]
    },
    {
      "cell_type": "code",
      "metadata": {
        "colab": {
          "base_uri": "https://localhost:8080/"
        },
        "id": "NU_ybKQY-W3Z",
        "outputId": "b5ba06ab-9a63-40eb-c58d-27ba6ca95e91"
      },
      "source": [
        "\n",
        "#inconsistenacia tipo deadlocked, las series\n",
        "du[:]"
      ],
      "execution_count": null,
      "outputs": [
        {
          "output_type": "execute_result",
          "data": {
            "text/plain": [
              "array(['6795296'], dtype='<U32')"
            ]
          },
          "metadata": {},
          "execution_count": 7
        }
      ]
    },
    {
      "cell_type": "code",
      "metadata": {
        "colab": {
          "base_uri": "https://localhost:8080/"
        },
        "id": "pgqvaHsF-bv4",
        "outputId": "01449e9f-3a54-443a-f402-c554cbdc936e"
      },
      "source": [
        "#inconsistenacia tipo formulario a anular, las series\n",
        "form[:]"
      ],
      "execution_count": null,
      "outputs": [
        {
          "output_type": "execute_result",
          "data": {
            "text/plain": [
              "array([], dtype=float64)"
            ]
          },
          "metadata": {},
          "execution_count": 8
        }
      ]
    },
    {
      "cell_type": "code",
      "metadata": {
        "id": "sebQOpwdraq7"
      },
      "source": [
        ""
      ],
      "execution_count": null,
      "outputs": []
    },
    {
      "cell_type": "code",
      "metadata": {
        "id": "9gympg-tra5f"
      },
      "source": [
        ""
      ],
      "execution_count": null,
      "outputs": []
    },
    {
      "cell_type": "code",
      "metadata": {
        "id": "ybwQmFmKrbNH"
      },
      "source": [
        ""
      ],
      "execution_count": null,
      "outputs": []
    },
    {
      "cell_type": "code",
      "metadata": {
        "id": "MK0ALEE6rbiI"
      },
      "source": [
        ""
      ],
      "execution_count": null,
      "outputs": []
    },
    {
      "cell_type": "code",
      "metadata": {
        "id": "qMNUy4WqrbGI"
      },
      "source": [
        ""
      ],
      "execution_count": null,
      "outputs": []
    },
    {
      "cell_type": "code",
      "metadata": {
        "id": "rCJD9_QfraxC"
      },
      "source": [
        ""
      ],
      "execution_count": null,
      "outputs": []
    },
    {
      "cell_type": "code",
      "metadata": {
        "id": "mQ5dz6wCrakw"
      },
      "source": [
        ""
      ],
      "execution_count": null,
      "outputs": []
    },
    {
      "cell_type": "code",
      "metadata": {
        "colab": {
          "base_uri": "https://localhost:8080/",
          "height": 34
        },
        "id": "Uv6eWdZQFXhx",
        "outputId": "1f8acb3c-41ca-482e-fc40-066a58c2f887"
      },
      "source": [
        "n=np.where(leer=='  <Inconsistencias>\\n')\n",
        "len(n[0])*4"
      ],
      "execution_count": null,
      "outputs": [
        {
          "data": {
            "text/plain": [
              "161848"
            ]
          },
          "execution_count": 39,
          "metadata": {
            "tags": []
          },
          "output_type": "execute_result"
        }
      ]
    },
    {
      "cell_type": "code",
      "metadata": {
        "colab": {
          "base_uri": "https://localhost:8080/",
          "height": 34
        },
        "id": "y-z5oKTBRt6n",
        "outputId": "c5e128ea-2090-4a44-e38c-25e42e0e001c"
      },
      "source": [
        "for i in range(len(n[0])):\n",
        "  x=i\n",
        "  if 'duplicate key' not in leer[n[0][i]+2]:\n",
        "    break    \n",
        "  \n",
        "x"
      ],
      "execution_count": null,
      "outputs": [
        {
          "data": {
            "text/plain": [
              "39057"
            ]
          },
          "execution_count": 40,
          "metadata": {
            "tags": []
          },
          "output_type": "execute_result"
        }
      ]
    },
    {
      "cell_type": "code",
      "metadata": {
        "colab": {
          "base_uri": "https://localhost:8080/",
          "height": 34
        },
        "id": "ec7UdodwvFY6",
        "outputId": "1f6b5b77-7eb3-4452-8033-9e141bffa1a1"
      },
      "source": [
        "((len(leer[n[0][0]:])-1)-len(leer[n[0][0]:n[0][x]]))/4\n"
      ],
      "execution_count": null,
      "outputs": [
        {
          "data": {
            "text/plain": [
              "895.0"
            ]
          },
          "execution_count": 257,
          "metadata": {
            "tags": []
          },
          "output_type": "execute_result"
        }
      ]
    },
    {
      "cell_type": "code",
      "metadata": {
        "colab": {
          "base_uri": "https://localhost:8080/",
          "height": 34
        },
        "id": "s0hWlXlak1nd",
        "outputId": "fd404944-5fa9-4780-ad07-6e4a7ee2e7b2"
      },
      "source": [
        "len(leer[n[0][0]:])-len(leer[n[0][0]:n[0][x]])"
      ],
      "execution_count": null,
      "outputs": [
        {
          "data": {
            "text/plain": [
              "3581"
            ]
          },
          "execution_count": 241,
          "metadata": {
            "tags": []
          },
          "output_type": "execute_result"
        }
      ]
    },
    {
      "cell_type": "code",
      "metadata": {
        "colab": {
          "base_uri": "https://localhost:8080/",
          "height": 69
        },
        "id": "ZR74H6HCaQbl",
        "outputId": "9d833bde-226c-415c-9c98-48cbacebbf4d"
      },
      "source": [
        "leer[n[0][x]+1],"
      ],
      "execution_count": null,
      "outputs": [
        {
          "data": {
            "application/vnd.google.colaboratory.intrinsic+json": {
              "type": "string"
            },
            "text/plain": [
              "'    <trama>&lt;f&gt;&lt;ct&gt;1&lt;/ct&gt;&lt;cc&gt;400&lt;/cc&gt;&lt;cf&gt;SUS567943&lt;/cf&gt;&lt;fa&gt;2020-07-27&lt;/fa&gt;&lt;ha&gt;19:13:20&lt;/ha&gt;&lt;fs&gt;2020-07-27&lt;/fs&gt;&lt;cm&gt;68464&lt;/cm&gt;&lt;cr&gt;8933&lt;/cr&gt;&lt;tdv&gt;2H038162&lt;/tdv&gt;&lt;g&gt;1&lt;s&gt;&lt;l&gt;00010&lt;/l&gt;&lt;/s&gt;&lt;c&gt;&lt;n&gt;BQWBT/Pv3UM=&lt;/n&gt;&lt;v&gt;4760&lt;/v&gt;&lt;m&gt;0005&lt;/m&gt;&lt;/c&gt;&lt;/g&gt;&lt;/f&gt;</trama>\\n'"
            ]
          },
          "execution_count": 95,
          "metadata": {
            "tags": []
          },
          "output_type": "execute_result"
        }
      ]
    },
    {
      "cell_type": "code",
      "metadata": {
        "colab": {
          "base_uri": "https://localhost:8080/",
          "height": 34
        },
        "id": "--YZq9RahtDI",
        "outputId": "35bff493-1b2a-433a-d2e4-228fd4cb11a0"
      },
      "source": [
        "p=leer[n[0][x]+1][leer[n[0][x]+1].find(\"SU\"):leer[n[0][x]+1].find(\"SU\")+3]\n",
        "o=leer[n[0][x]+1][leer[n[0][x]+1].find(\"SU\")+3:leer[n[0][x]+1].find(\"&\",leer[n[0][x]+1].find(\"SU\"))]\n",
        "p,o"
      ],
      "execution_count": null,
      "outputs": [
        {
          "data": {
            "text/plain": [
              "('SUS', '567943')"
            ]
          },
          "execution_count": 80,
          "metadata": {
            "tags": []
          },
          "output_type": "execute_result"
        }
      ]
    },
    {
      "cell_type": "code",
      "metadata": {
        "colab": {
          "base_uri": "https://localhost:8080/",
          "height": 106
        },
        "id": "JQZOlJB7QJWK",
        "outputId": "452c0e4f-af3e-4d6c-e5ec-09bbf0692fbb"
      },
      "source": [
        "n[0][x], leer[n[0][x]+2], leer[n[0][x]-2],leer[n[0][x]+1]"
      ],
      "execution_count": null,
      "outputs": [
        {
          "data": {
            "text/plain": [
              "(344027,\n",
              " '    <errores>&lt;g&gt;&lt;e&gt;&lt;ce&gt;0&lt;/ce&gt;&lt;ca&gt;registro&lt;/ca&gt;&lt;me&gt;1205 - Transaction (Process ID 142) was deadlocked on lock resources with another process and has been chosen as the deadlock victim. Rerun the transaction.&lt;/me&gt;&lt;/e&gt;&lt;/g&gt;</errores>\\n',\n",
              " \"    <errores>&lt;g&gt;&lt;e&gt;&lt;ce&gt;13&lt;/ce&gt;&lt;ca&gt;registro&lt;/ca&gt;&lt;me&gt;2601 - Cannot insert duplicate key row in object 'dbo.Tbl_TFormulario' with unique index 'IX_Tbl_TFormulario_CCodigo_Concesionario_CConsecutivo_Formulario_DFecha_Apuesta'. The duplicate key value is (400, SUR9751443, Jul 27 2020 12:00AM).&lt;/me&gt;&lt;/e&gt;&lt;/g&gt;</errores>\\n\",\n",
              " '    <trama>&lt;f&gt;&lt;ct&gt;1&lt;/ct&gt;&lt;cc&gt;400&lt;/cc&gt;&lt;cf&gt;SUS567943&lt;/cf&gt;&lt;fa&gt;2020-07-27&lt;/fa&gt;&lt;ha&gt;19:13:20&lt;/ha&gt;&lt;fs&gt;2020-07-27&lt;/fs&gt;&lt;cm&gt;68464&lt;/cm&gt;&lt;cr&gt;8933&lt;/cr&gt;&lt;tdv&gt;2H038162&lt;/tdv&gt;&lt;g&gt;1&lt;s&gt;&lt;l&gt;00010&lt;/l&gt;&lt;/s&gt;&lt;c&gt;&lt;n&gt;BQWBT/Pv3UM=&lt;/n&gt;&lt;v&gt;4760&lt;/v&gt;&lt;m&gt;0005&lt;/m&gt;&lt;/c&gt;&lt;/g&gt;&lt;/f&gt;</trama>\\n')"
            ]
          },
          "execution_count": 68,
          "metadata": {
            "tags": []
          },
          "output_type": "execute_result"
        }
      ]
    },
    {
      "cell_type": "code",
      "metadata": {
        "colab": {
          "base_uri": "https://localhost:8080/",
          "height": 106
        },
        "id": "aUJSCmihFeHz",
        "outputId": "def6e015-30cf-4183-a023-d888e27e3fdb"
      },
      "source": [
        "leer[244327], leer[244328], leer[244329], leer[244330]347603"
      ],
      "execution_count": null,
      "outputs": [
        {
          "data": {
            "text/plain": [
              "('  <Inconsistencias>\\n',\n",
              " '    <trama>&lt;f&gt;&lt;ct&gt;1&lt;/ct&gt;&lt;cc&gt;400&lt;/cc&gt;&lt;cf&gt;SUS4922529&lt;/cf&gt;&lt;fa&gt;2020-07-27&lt;/fa&gt;&lt;ha&gt;05:29:48&lt;/ha&gt;&lt;fs&gt;2020-07-27&lt;/fs&gt;&lt;cm&gt;68001&lt;/cm&gt;&lt;cr&gt;8933&lt;/cr&gt;&lt;tdv&gt;72172338654&lt;/tdv&gt;&lt;g&gt;1&lt;s&gt;&lt;l&gt;02002&lt;/l&gt;&lt;/s&gt;&lt;s&gt;&lt;l&gt;01020&lt;/l&gt;&lt;/s&gt;&lt;s&gt;&lt;l&gt;01022&lt;/l&gt;&lt;/s&gt;&lt;s&gt;&lt;l&gt;00010&lt;/l&gt;&lt;/s&gt;&lt;s&gt;&lt;l&gt;03002&lt;/l&gt;&lt;/s&gt;&lt;c&gt;&lt;n&gt;w1Y5yWcwhUs=&lt;/n&gt;&lt;v&gt;119&lt;/v&gt;&lt;m&gt;0001&lt;/m&gt;&lt;/c&gt;&lt;/g&gt;&lt;/f&gt;</trama>\\n',\n",
              " \"    <errores>&lt;g&gt;&lt;e&gt;&lt;ce&gt;13&lt;/ce&gt;&lt;ca&gt;registro&lt;/ca&gt;&lt;me&gt;2601 - Cannot insert duplicate key row in object 'dbo.Tbl_TFormulario' with unique index 'IX_Tbl_TFormulario_CCodigo_Concesionario_CConsecutivo_Formulario_DFecha_Apuesta'. The duplicate key value is (400, SUS4922529, Jul 27 2020 12:00AM).&lt;/me&gt;&lt;/e&gt;&lt;/g&gt;</errores>\\n\",\n",
              " '  </Inconsistencias>\\n')"
            ]
          },
          "execution_count": 25,
          "metadata": {
            "tags": []
          },
          "output_type": "execute_result"
        }
      ]
    },
    {
      "cell_type": "code",
      "metadata": {
        "colab": {
          "base_uri": "https://localhost:8080/",
          "height": 34
        },
        "id": "aZm1HKxrHxfC",
        "outputId": "34a2d0ec-1bf8-4be0-9c39-8eab0fa38876"
      },
      "source": [
        "leer.shape"
      ],
      "execution_count": null,
      "outputs": [
        {
          "data": {
            "text/plain": [
              "(347608,)"
            ]
          },
          "execution_count": 23,
          "metadata": {
            "tags": []
          },
          "output_type": "execute_result"
        }
      ]
    },
    {
      "cell_type": "code",
      "metadata": {
        "colab": {
          "base_uri": "https://localhost:8080/",
          "height": 124
        },
        "id": "XYgMbItSIMJU",
        "outputId": "1e2dbdfe-ffbf-4556-8aae-5d39f1880832"
      },
      "source": [
        "leer"
      ],
      "execution_count": null,
      "outputs": [
        {
          "data": {
            "text/plain": [
              "array(['<NewDataSet xmlns=\"TramasEnviadas\">\\n', '  <Efectivas>\\n',\n",
              "       '    <formulario>&lt;f&gt;&lt;ct&gt;1&lt;/ct&gt;&lt;cc&gt;400&lt;/cc&gt;&lt;cf&gt;SUR6143890&lt;/cf&gt;&lt;fa&gt;2020-07-27&lt;/fa&gt;&lt;ha&gt;03:00:56&lt;/ha&gt;&lt;fs&gt;2020-07-27&lt;/fs&gt;&lt;cm&gt;68190&lt;/cm&gt;&lt;cr&gt;8933&lt;/cr&gt;&lt;tdv&gt;2H011410&lt;/tdv&gt;&lt;g&gt;1&lt;s&gt;&lt;l&gt;00010&lt;/l&gt;&lt;/s&gt;&lt;c&gt;&lt;n&gt;RKmt3fJ1LHU=&lt;/n&gt;&lt;v&gt;2380&lt;/v&gt;&lt;m&gt;0001&lt;/m&gt;&lt;/c&gt;&lt;c&gt;&lt;n&gt;/eGaH+WSU1U=&lt;/n&gt;&lt;v&gt;2380&lt;/v&gt;&lt;m&gt;0001&lt;/m&gt;&lt;/c&gt;&lt;/g&gt;&lt;/f&gt;</formulario>\\n',\n",
              "       ...,\n",
              "       '    <errores>&lt;g&gt;&lt;e&gt;&lt;ce&gt;0&lt;/ce&gt;&lt;ca&gt;registro&lt;/ca&gt;&lt;me&gt;1205 - Transaction (Process ID 195) was deadlocked on lock resources with another process and has been chosen as the deadlock victim. Rerun the transaction.&lt;/me&gt;&lt;/e&gt;&lt;/g&gt;</errores>\\n',\n",
              "       '  </Inconsistencias>\\n', '</NewDataSet>'], dtype='<U2684')"
            ]
          },
          "execution_count": 24,
          "metadata": {
            "tags": []
          },
          "output_type": "execute_result"
        }
      ]
    },
    {
      "cell_type": "code",
      "metadata": {
        "id": "UuQexbiqITVE"
      },
      "source": [
        ""
      ],
      "execution_count": null,
      "outputs": []
    }
  ]
}